{
 "cells": [
  {
   "cell_type": "code",
   "execution_count": 1,
   "id": "3617687f",
   "metadata": {},
   "outputs": [
    {
     "data": {
      "text/plain": [
       "True"
      ]
     },
     "execution_count": 1,
     "metadata": {},
     "output_type": "execute_result"
    }
   ],
   "source": [
    "# for getting google_api_key from the .env file\n",
    "import os\n",
    "from dotenv import load_dotenv\n",
    "load_dotenv()"
   ]
  },
  {
   "cell_type": "code",
   "execution_count": 2,
   "id": "75960750",
   "metadata": {},
   "outputs": [],
   "source": [
    "from langchain.embeddings import GooglePalmEmbeddings\n",
    "from langchain.llms import GooglePalm\n",
    "from langchain.document_loaders.pdf import PyPDFLoader\n",
    "from langchain.vectorstores import FAISS\n",
    "from langchain.prompts import PromptTemplate\n",
    "from langchain.chains import RetrievalQA"
   ]
  },
  {
   "cell_type": "code",
   "execution_count": 3,
   "id": "9a38bedc",
   "metadata": {},
   "outputs": [],
   "source": [
    "google_api_key=os.environ[\"GOOGLE_API_KEY\"]"
   ]
  },
  {
   "cell_type": "markdown",
   "id": "591aa57c",
   "metadata": {},
   "source": [
    "### Loading PDF file"
   ]
  },
  {
   "cell_type": "code",
   "execution_count": 4,
   "id": "2e195ea1",
   "metadata": {},
   "outputs": [],
   "source": [
    "loader=PyPDFLoader(file_path='budget_speech.pdf')\n",
    "doc=loader.load_and_split()"
   ]
  },
  {
   "cell_type": "code",
   "execution_count": 5,
   "id": "be52f1df",
   "metadata": {},
   "outputs": [
    {
     "data": {
      "text/plain": [
       "Document(page_content='9 \\n (4) Goods and Services Tax has enabled ‘One Nation, \\nOne Market, One Tax’ . Tax reforms have led to \\ndeepening  and widening of tax base.  \\n(5) Strengthening of the financial sector has helped in \\nmaking savings, credit and investments more \\nefficient.   \\n(6) GIFT IFSC and the unified regulatory authority, IFSCA \\nare creating a robust gateway for global capital and \\nfinancial services for the economy.  \\n(7) Proactive inflation management has helped keep  \\ninflation within  the policy band.   \\nGlobal Context  \\n29. Geopolitically , global affairs are becoming more complex \\nand challenging with wars and conflicts. Globalization is being \\nredefined with reshoring and friend -shoring, disruption and \\nfragmentation of supply chains, and competition for critical \\nminerals and technologies. A  new world order is emerging after \\nthe Covid pandemic.  \\n30. India assumed G20  Presidency during very difficult times \\nfor the world. The global economy was going through high \\ninflation, high interest rates, low growth, very high public debt, \\nlow trade growth, and climate challenges. The pandemic had led \\nto a crisis of food, fertiliz er, fuel and finances for the world, while \\nIndia successfully  navigated its way. The country showed the way', metadata={'source': 'budget_speech.pdf', 'page': 12})"
      ]
     },
     "execution_count": 5,
     "metadata": {},
     "output_type": "execute_result"
    }
   ],
   "source": [
    "# Sample page content\n",
    "\n",
    "doc[10]"
   ]
  },
  {
   "cell_type": "markdown",
   "id": "2c4e1775",
   "metadata": {},
   "source": [
    "# Creating a Vector Database using FAISS DB"
   ]
  },
  {
   "cell_type": "code",
   "execution_count": 6,
   "id": "63d304d7",
   "metadata": {},
   "outputs": [],
   "source": [
    "faiss_index = FAISS.from_documents(documents=doc, embedding=GooglePalmEmbeddings(google_api_key=google_api_key))"
   ]
  },
  {
   "cell_type": "code",
   "execution_count": 7,
   "id": "1ce97433",
   "metadata": {},
   "outputs": [
    {
     "data": {
      "text/plain": [
       "langchain_community.vectorstores.faiss.FAISS"
      ]
     },
     "execution_count": 7,
     "metadata": {},
     "output_type": "execute_result"
    }
   ],
   "source": [
    "type(faiss_index)"
   ]
  },
  {
   "cell_type": "code",
   "execution_count": 8,
   "id": "417c5968",
   "metadata": {},
   "outputs": [],
   "source": [
    "#Storing it in local drive\n",
    "faiss_index.save_local(\".\\VectorDB_file\")"
   ]
  },
  {
   "cell_type": "markdown",
   "id": "2dd86d3b",
   "metadata": {},
   "source": [
    "# Load from saved VectorDB and create Retriever from it"
   ]
  },
  {
   "cell_type": "code",
   "execution_count": 9,
   "id": "5d24db42",
   "metadata": {},
   "outputs": [],
   "source": [
    "# Loading from the saved VectorDB\n",
    "\n",
    "vectorDB_saved=FAISS.load_local(\"VectorDB_file\", embeddings=GooglePalmEmbeddings(google_api_key=google_api_key))"
   ]
  },
  {
   "cell_type": "code",
   "execution_count": 10,
   "id": "f9969718",
   "metadata": {},
   "outputs": [],
   "source": [
    "retriever=vectorDB_saved.as_retriever(score_threshold=0.7)"
   ]
  },
  {
   "cell_type": "markdown",
   "id": "3d4dff2f",
   "metadata": {},
   "source": [
    "# Prompt Engineering and Creating RetrievalQA chain for Similarity Search"
   ]
  },
  {
   "cell_type": "code",
   "execution_count": 11,
   "id": "e30af2e7",
   "metadata": {},
   "outputs": [
    {
     "data": {
      "text/plain": [
       "PromptTemplate(input_variables=['context', 'question'], template='Given the following context and a question, generate an answer based on this context only.\\nIn the answer try to provide as much text as possible from \"response\" section in the source document context without making much changes.\\nIf the answer is not found in the context, kindly state \\'I don\\'t know the answer.\\' Don\\'t try to make up an answer.\\n\\nCONTEXT: {context}\\n\\nQUESTION: {question}')"
      ]
     },
     "execution_count": 11,
     "metadata": {},
     "output_type": "execute_result"
    }
   ],
   "source": [
    "prompt_template = \"\"\"Given the following context and a question, generate an answer based on this context only.\n",
    "In the answer try to provide as much text as possible from \"response\" section in the source document context without making much changes.\n",
    "If the answer is not found in the context, kindly state 'I don't know the answer.' Don't try to make up an answer.\n",
    "\n",
    "CONTEXT: {context}\n",
    "\n",
    "QUESTION: {question}\"\"\"\n",
    "\n",
    "prompt=PromptTemplate(template=prompt_template, input_variables=[\"context\", \"question\"])\n",
    "prompt"
   ]
  },
  {
   "cell_type": "code",
   "execution_count": 22,
   "id": "6e11ff78",
   "metadata": {},
   "outputs": [],
   "source": [
    "llm=GooglePalm(google_api_key=os.environ[\"GOOGLE_API_KEY\"], temperature=0.1)\n",
    "\n",
    "chain=RetrievalQA.from_chain_type(\n",
    "    llm=llm,\n",
    "    chain_type=\"stuff\",\n",
    "    retriever=retriever,\n",
    "    input_key=\"query\",\n",
    "    return_source_documents=True,\n",
    "    chain_type_kwargs={\"prompt\":prompt}\n",
    ")"
   ]
  },
  {
   "cell_type": "code",
   "execution_count": 23,
   "id": "75fe3157",
   "metadata": {},
   "outputs": [],
   "source": [
    "def response(user_query):\n",
    "    res=chain(user_query)\n",
    "    return res['result']"
   ]
  },
  {
   "cell_type": "markdown",
   "id": "d8fc61b7",
   "metadata": {},
   "source": [
    "# Sample Response"
   ]
  },
  {
   "cell_type": "code",
   "execution_count": 24,
   "id": "4db60ecf",
   "metadata": {},
   "outputs": [
    {
     "data": {
      "text/plain": [
       "'Nirmala Sitharaman'"
      ]
     },
     "execution_count": 24,
     "metadata": {},
     "output_type": "execute_result"
    }
   ],
   "source": [
    "response('Who is the Finance minister?')"
   ]
  },
  {
   "cell_type": "code",
   "execution_count": 25,
   "id": "a4140f48",
   "metadata": {},
   "outputs": [
    {
     "data": {
      "text/plain": [
       "\"I don't know the answer.\""
      ]
     },
     "execution_count": 25,
     "metadata": {},
     "output_type": "execute_result"
    }
   ],
   "source": [
    "response('What is the famous place in US?')"
   ]
  },
  {
   "cell_type": "code",
   "execution_count": 26,
   "id": "7e97fdd1",
   "metadata": {},
   "outputs": [
    {
     "data": {
      "text/plain": [
       "'Nano DAP, Atmanirbhar Oil Seeds Abhiyan, Dairy Development, Matsya Sampada, Pradhan Mantri Kisan Sampada Yojana, Pradhan Mantri Formalisation of Micro Food Processing Enterprises Yojana'"
      ]
     },
     "execution_count": 26,
     "metadata": {},
     "output_type": "execute_result"
    }
   ],
   "source": [
    "response('Mention schemes for Agriculture Sector?')"
   ]
  },
  {
   "cell_type": "code",
   "execution_count": null,
   "id": "98342319",
   "metadata": {},
   "outputs": [],
   "source": []
  }
 ],
 "metadata": {
  "kernelspec": {
   "display_name": "Python 3 (ipykernel)",
   "language": "python",
   "name": "python3"
  },
  "language_info": {
   "codemirror_mode": {
    "name": "ipython",
    "version": 3
   },
   "file_extension": ".py",
   "mimetype": "text/x-python",
   "name": "python",
   "nbconvert_exporter": "python",
   "pygments_lexer": "ipython3",
   "version": "3.10.9"
  }
 },
 "nbformat": 4,
 "nbformat_minor": 5
}
